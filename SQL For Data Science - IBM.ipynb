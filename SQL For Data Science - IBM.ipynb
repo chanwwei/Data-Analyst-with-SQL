{
 "cells": [
  {
   "cell_type": "markdown",
   "metadata": {},
   "source": [
    "# IBM SQL for Data Science"
   ]
  },
  {
   "cell_type": "markdown",
   "metadata": {},
   "source": [
    "## DDL（Data Definition Language) Statements:\n",
    "- Define, Change or Drop Data"
   ]
  },
  {
   "cell_type": "markdown",
   "metadata": {},
   "source": [
    "DDL or Data Definition Language statements are used for defining or changing objects in a database such as **tables**.\n"
   ]
  },
  {
   "cell_type": "markdown",
   "metadata": {},
   "source": [
    "Common DDL:\n",
    "- CREATE: Creating tables and defining its columns\n",
    "- ALTER: Altering tables including adding and dropping columns and modifying their datatypes\n",
    "- TRUNCATE: Deleting data in a table but not the table itself\n",
    "- DROP: Deleting tables"
   ]
  },
  {
   "cell_type": "markdown",
   "metadata": {},
   "source": [
    "## DML（Data Manipulation Language) Statements:\n",
    "- Read and Modify Data\n",
    "- CRUD operations (Create,Read,Update,Delete rows)"
   ]
  },
  {
   "cell_type": "markdown",
   "metadata": {},
   "source": [
    "DML or Data Manipulation Language statements are used for manipulating or working with **data** in tables."
   ]
  },
  {
   "cell_type": "markdown",
   "metadata": {},
   "source": [
    "Common DML:\n",
    "- INSERT: Inserting a row or several rows of data into a table;\n",
    "- SELECT: Reads or selects row or rows from a table\n",
    "- UPDATE: Edits row or rows in a table;\n",
    "- DELETE: Removes a row or rows of data from a table."
   ]
  },
  {
   "cell_type": "markdown",
   "metadata": {},
   "source": [
    "## DML-SELECT Statement"
   ]
  },
  {
   "cell_type": "markdown",
   "metadata": {},
   "source": [
    "### Useful Built-In Functions Used with SELECT Statements"
   ]
  },
  {
   "cell_type": "markdown",
   "metadata": {},
   "source": [
    "## COUNT"
   ]
  },
  {
   "cell_type": "markdown",
   "metadata": {},
   "source": [
    "COUNT is a built-in database function that retrieves the number of rows that match the query criteria."
   ]
  },
  {
   "cell_type": "markdown",
   "metadata": {},
   "source": [
    "Rows in the MEDALS table where Country is Canada"
   ]
  },
  {
   "cell_type": "code",
   "execution_count": null,
   "metadata": {},
   "outputs": [],
   "source": [
    "SELECT COUNT (COUNTRY) FROM MEDALS\n",
    "WHERE COUNTRY = \"CANADA\";"
   ]
  },
  {
   "cell_type": "markdown",
   "metadata": {},
   "source": [
    "Retrieve the number of locations of the films which are directed by Woody Allen."
   ]
  },
  {
   "cell_type": "code",
   "execution_count": null,
   "metadata": {},
   "outputs": [],
   "source": [
    "SELECT COUNT(Locations) FROM FilmLocations WHERE Director=\"Woody Allen\";"
   ]
  },
  {
   "cell_type": "markdown",
   "metadata": {},
   "source": [
    "Retrieve the number of films shot at Russian Hill."
   ]
  },
  {
   "cell_type": "code",
   "execution_count": null,
   "metadata": {},
   "outputs": [],
   "source": [
    "SELECT Count(Title) FROM FilmLocations WHERE Locations=\"Russian Hill\";"
   ]
  },
  {
   "cell_type": "markdown",
   "metadata": {},
   "source": [
    "Retrieve the number of rows having a release year older than 1950 from the \"FilmLocations\" table."
   ]
  },
  {
   "cell_type": "code",
   "execution_count": null,
   "metadata": {},
   "outputs": [],
   "source": [
    "SELECT Count(*) FROM FilmLocations WHERE ReleaseYear<1950;"
   ]
  },
  {
   "cell_type": "code",
   "execution_count": null,
   "metadata": {},
   "outputs": [],
   "source": []
  },
  {
   "cell_type": "markdown",
   "metadata": {},
   "source": [
    "## DISTINCT"
   ]
  },
  {
   "cell_type": "markdown",
   "metadata": {},
   "source": [
    "DISTINCT is used to remove duplicate values from a result set."
   ]
  },
  {
   "cell_type": "markdown",
   "metadata": {},
   "source": [
    "A country may have received a gold medal multiple times.\n",
    "Example, retrieve the list of unique countries that received gold medals.\n",
    "That is, removing all duplicate values of the same country."
   ]
  },
  {
   "cell_type": "code",
   "execution_count": null,
   "metadata": {},
   "outputs": [],
   "source": [
    "SELECT DISTINCT COUNTRY FROM MEDALS\n",
    "WHERE MEDALTYPE=\"GOLD\";"
   ]
  },
  {
   "cell_type": "markdown",
   "metadata": {},
   "source": [
    "Retrieve the name of all films without any repeated titles."
   ]
  },
  {
   "cell_type": "code",
   "execution_count": null,
   "metadata": {},
   "outputs": [],
   "source": [
    "SELECT DISTINCT Title FROM FilmLocations;"
   ]
  },
  {
   "cell_type": "markdown",
   "metadata": {},
   "source": [
    "Retrieve the number of release years of the films distinctly, produced by Warner Bros. Pictures."
   ]
  },
  {
   "cell_type": "code",
   "execution_count": null,
   "metadata": {},
   "outputs": [],
   "source": [
    "SELECT COUNT (DISTINCT ReleaseYear) FROM FilmLocations\n",
    "WHERE ProductionCompany=\"Warner Bros. Pictures\";"
   ]
  },
  {
   "cell_type": "markdown",
   "metadata": {},
   "source": [
    "Retrieve the name of all unique films released in the 21st century and onwards, along with their release years."
   ]
  },
  {
   "cell_type": "code",
   "execution_count": null,
   "metadata": {},
   "outputs": [],
   "source": [
    "SELECT DISTINCT Title, ReleaseYear FROM FilmLocations WHERE ReleaseYear>=2001;"
   ]
  },
  {
   "cell_type": "markdown",
   "metadata": {},
   "source": [
    "Retrieve the names of all the directors and their distinct films shot at City Hall."
   ]
  },
  {
   "cell_type": "code",
   "execution_count": null,
   "metadata": {},
   "outputs": [],
   "source": [
    "SELECT DISTINCT Title, Director FROM FilmLocations WHERE Locations=\"City Hall\";"
   ]
  },
  {
   "cell_type": "markdown",
   "metadata": {},
   "source": [
    "Retrieve the number of distributors distinctly who distributed films acted by Clint Eastwood as 1st actor."
   ]
  },
  {
   "cell_type": "code",
   "execution_count": null,
   "metadata": {},
   "outputs": [],
   "source": [
    "SELECT COUNT(DISTINCT Distributor) FROM FilmLocations WHERE Actor1=\"Clint Eastwood\";"
   ]
  },
  {
   "cell_type": "code",
   "execution_count": null,
   "metadata": {},
   "outputs": [],
   "source": []
  },
  {
   "cell_type": "markdown",
   "metadata": {},
   "source": [
    "## LIMIT"
   ]
  },
  {
   "cell_type": "markdown",
   "metadata": {},
   "source": [
    "LIMIT is used for restricting the number of rows retrieved from the database."
   ]
  },
  {
   "cell_type": "markdown",
   "metadata": {},
   "source": [
    "Example, retrieve just a few rows in the MEDALS table for a particular year."
   ]
  },
  {
   "cell_type": "code",
   "execution_count": null,
   "metadata": {},
   "outputs": [],
   "source": [
    "SELECT * FROM MEDALS\n",
    "WHERE YEAR = 2018 LIMIT 5;"
   ]
  },
  {
   "cell_type": "markdown",
   "metadata": {},
   "source": [
    "Retrieve the first 25 rows from the \"FilmLocations\" table."
   ]
  },
  {
   "cell_type": "code",
   "execution_count": null,
   "metadata": {},
   "outputs": [],
   "source": [
    "SELECT * FROM FilmLocations LIMIT 25;"
   ]
  },
  {
   "cell_type": "markdown",
   "metadata": {},
   "source": [
    "Retrieve the first 15 rows from the \"FilmLocations\" table starting **from row 11**."
   ]
  },
  {
   "cell_type": "code",
   "execution_count": null,
   "metadata": {},
   "outputs": [],
   "source": [
    "SELECT * FROM FilmLocations LIMIT 15 OFFSET 10;"
   ]
  },
  {
   "cell_type": "markdown",
   "metadata": {},
   "source": [
    "Retrieve the name of first 50 films distinctly."
   ]
  },
  {
   "cell_type": "code",
   "execution_count": null,
   "metadata": {},
   "outputs": [],
   "source": [
    "SELECT DISTINCT Title FROM FilmLocations LIMIT 50;"
   ]
  },
  {
   "cell_type": "markdown",
   "metadata": {},
   "source": [
    "Retrieve first 10 film names distinctly released in 2015."
   ]
  },
  {
   "cell_type": "code",
   "execution_count": null,
   "metadata": {},
   "outputs": [],
   "source": [
    "SELECT DISTINCT Title FROM FilmLocations WHERE ReleaseYear=2015 LIMIT 10;"
   ]
  },
  {
   "cell_type": "markdown",
   "metadata": {},
   "source": [
    "Retrieve the next 3 film names distinctly **after first 5 films** released in 2015."
   ]
  },
  {
   "cell_type": "code",
   "execution_count": null,
   "metadata": {},
   "outputs": [],
   "source": [
    "SELECT DISTINCT Title FROM FilmLocations WHERE ReleaseYear=2015 LIMIT 3 OFFSET 5;"
   ]
  },
  {
   "cell_type": "markdown",
   "metadata": {},
   "source": [
    "## Database: Instructor"
   ]
  },
  {
   "cell_type": "markdown",
   "metadata": {},
   "source": [
    "Instructor (\n",
    "    ins_id:     unique identification number of the instructors,    \n",
    "    lastname:   last name of the instructors,\n",
    "    firstname:  first name of the instructors,\n",
    "    city:       name of the cities where instructors are located,\n",
    "    country:    two-letter country code of the countries where instructors are located\n",
    ")"
   ]
  },
  {
   "cell_type": "markdown",
   "metadata": {},
   "source": [
    "## INSERT Statement"
   ]
  },
  {
   "cell_type": "code",
   "execution_count": null,
   "metadata": {},
   "outputs": [],
   "source": [
    "INSERT INTO table_name (column1, column2, ... )\n",
    "VALUES (value1, value2, ... )\n",
    ";"
   ]
  },
  {
   "cell_type": "code",
   "execution_count": null,
   "metadata": {},
   "outputs": [],
   "source": [
    "INSERT INTO AUTHOR\n",
    "    (AUTHOR_ID,LASTNAME,FIRSTNAME,EMAIL,CITY,COUNTRY)\n",
    "VALUES('A1','CHONG','RAUL','FRG@IBM.COM','TORONTO','CA'),\n",
    "      ('A2','LIM','RAY','LIM@IBM.COM','TORONTO','CA')\n",
    ";"
   ]
  },
  {
   "cell_type": "markdown",
   "metadata": {},
   "source": [
    "Insert a new instructor record with id 4 for Sandip Saha who lives in Edmonton, CA into the \"Instructor\" table."
   ]
  },
  {
   "cell_type": "code",
   "execution_count": null,
   "metadata": {},
   "outputs": [],
   "source": [
    "INSERT INTO Instructor (ins_id,lastname,firstname,city,country)\n",
    "VALUES (4,'Saha','Sandip','Edmonton','CA');\n",
    "\n",
    "SELECT * FROM Instructor;"
   ]
  },
  {
   "cell_type": "markdown",
   "metadata": {},
   "source": [
    "Insert two new instructor records into the \"Instructor\" table. \n",
    "First record with id 5 for John Doe who lives in Sydney, AU. \n",
    "Second record with id 6 for Jane Doe who lives in Dhaka, BD."
   ]
  },
  {
   "cell_type": "code",
   "execution_count": null,
   "metadata": {},
   "outputs": [],
   "source": [
    "INSERT INTO Instructor (ins_id,lastname,firstname,city,country)\n",
    "VALUES (5,'Doe','John','Sydney','AU'),\n",
    "       (6,'Doe','Jane','Dhaka','BD');\n",
    "    \n",
    "SELECT * FROM Instructor;"
   ]
  },
  {
   "cell_type": "markdown",
   "metadata": {},
   "source": [
    "Insert a new instructor record with id 7 for Antonio Cangiano who lives in Vancouver, CA into the \"Instructor\" table."
   ]
  },
  {
   "cell_type": "code",
   "execution_count": null,
   "metadata": {},
   "outputs": [],
   "source": [
    "INSERT INTO Instructor(ins_id, lastname, firstname, city, country)\n",
    "VALUES(7, 'Cangiano', 'Antonio', 'Vancouver', 'CA');\n",
    "\n",
    "SELECT * FROM Instructor;"
   ]
  },
  {
   "cell_type": "markdown",
   "metadata": {},
   "source": [
    "Insert two new instructor records into the \"Instructor\" table. First record with id 8 for Steve Ryan who lives in Barlby, GB. Second record with id 9 for Ramesh Sannareddy who lives in Hyderabad, IN."
   ]
  },
  {
   "cell_type": "code",
   "execution_count": null,
   "metadata": {},
   "outputs": [],
   "source": [
    "INSERT INTO Instructor(ins_id, lastname, firstname, city, country)\n",
    "VALUES(8, 'Ryan', 'Steve', 'Barlby', 'GB'), \n",
    "(9, 'Sannareddy', 'Ramesh', 'Hyderabad', 'IN');\n",
    "\n",
    "SELECT * FROM Instructor;"
   ]
  },
  {
   "cell_type": "code",
   "execution_count": null,
   "metadata": {},
   "outputs": [],
   "source": []
  },
  {
   "cell_type": "markdown",
   "metadata": {},
   "source": [
    "## DML: UPDATE Statement - Altering rows of a table "
   ]
  },
  {
   "cell_type": "markdown",
   "metadata": {},
   "source": [
    "**Note that if you do not specify the WHERE clause, all the rows in the table will be updated.**"
   ]
  },
  {
   "cell_type": "code",
   "execution_count": null,
   "metadata": {},
   "outputs": [],
   "source": [
    "UPDATE table_name\n",
    "SET column1 = value1, column2 = value2, ...\n",
    "WHERE condition\n",
    ";"
   ]
  },
  {
   "cell_type": "markdown",
   "metadata": {},
   "source": [
    "To change the first name and last name to Lakshmi Katta, where the author ID is equal to A2"
   ]
  },
  {
   "cell_type": "code",
   "execution_count": null,
   "metadata": {},
   "outputs": [],
   "source": [
    "UPDATE AUTHOR\n",
    "SET LASTNAME='KATTA',FIRSTNAME='LAKSHMI'\n",
    "WHERE AUTHOR_ID='A2';"
   ]
  },
  {
   "cell_type": "markdown",
   "metadata": {},
   "source": [
    "Update the city for Sandip to Toronto."
   ]
  },
  {
   "cell_type": "code",
   "execution_count": null,
   "metadata": {},
   "outputs": [],
   "source": [
    "UPDATE Instructor\n",
    "SET city ='Toronto'\n",
    "WHERE firstname = 'Sandip';\n",
    "\n",
    "SELECT * FROM Instructor;"
   ]
  },
  {
   "cell_type": "markdown",
   "metadata": {},
   "source": [
    "Update the city and country for Doe with id 5 to Dubai and AE respectively."
   ]
  },
  {
   "cell_type": "code",
   "execution_count": null,
   "metadata": {},
   "outputs": [],
   "source": [
    "UPDATE Instructor \n",
    "SET city='Dubai', country='AE' \n",
    "WHERE ins_id=5;\n",
    "\n",
    "SELECT * FROM Instructor;"
   ]
  },
  {
   "cell_type": "markdown",
   "metadata": {},
   "source": [
    "Update the city of the instructor record to Markham whose id is 1."
   ]
  },
  {
   "cell_type": "code",
   "execution_count": null,
   "metadata": {},
   "outputs": [],
   "source": [
    "UPDATE Instructor \n",
    "SET city='Markham' \n",
    "WHERE ins_id=1;\n",
    "\n",
    "SELECT * FROM Instructor;"
   ]
  },
  {
   "cell_type": "markdown",
   "metadata": {},
   "source": [
    "Update the city and country for Sandip with id 4 to Dhaka and BD respectively."
   ]
  },
  {
   "cell_type": "code",
   "execution_count": null,
   "metadata": {},
   "outputs": [],
   "source": [
    "UPDATE Instructor \n",
    "SET city='Dhaka', country='BD' \n",
    "WHERE ins_id=4;\n",
    "\n",
    "SELECT * FROM Instructor;"
   ]
  },
  {
   "cell_type": "markdown",
   "metadata": {},
   "source": [
    "## DML: DELETE Statement - Deleting rows from a table "
   ]
  },
  {
   "cell_type": "markdown",
   "metadata": {},
   "source": [
    "**Note that if you do not specify the WHERE clause, all the rows in the table will be removed.**"
   ]
  },
  {
   "cell_type": "code",
   "execution_count": null,
   "metadata": {},
   "outputs": [],
   "source": [
    "DELETE FROM table_name\n",
    "WHERE condition\n",
    ";"
   ]
  },
  {
   "cell_type": "markdown",
   "metadata": {},
   "source": [
    "Based on the author entity example, we want to delete the rows for author ID A2 and A3."
   ]
  },
  {
   "cell_type": "code",
   "execution_count": null,
   "metadata": {},
   "outputs": [],
   "source": [
    "DELETE FROM AUTHOR\n",
    "WHERE AUTHOR_ID IN ('A2','A3');"
   ]
  },
  {
   "cell_type": "markdown",
   "metadata": {},
   "source": [
    "Remove the instructor record of Doe whose id is 6."
   ]
  },
  {
   "cell_type": "code",
   "execution_count": null,
   "metadata": {},
   "outputs": [],
   "source": [
    "DELETE FROM instructor\n",
    "WHERE ins_id = 6;\n",
    "\n",
    "SELECT * FROM Instructor;"
   ]
  },
  {
   "cell_type": "markdown",
   "metadata": {},
   "source": [
    "Remove the instructor record of Hima."
   ]
  },
  {
   "cell_type": "code",
   "execution_count": null,
   "metadata": {},
   "outputs": [],
   "source": [
    "DELETE FROM instructor\n",
    "WHERE firstname = 'Hima';\n",
    "\n",
    "SELECT * FROM Instructor;"
   ]
  },
  {
   "cell_type": "markdown",
   "metadata": {},
   "source": [
    "# Relational Database Concept"
   ]
  },
  {
   "cell_type": "markdown",
   "metadata": {},
   "source": [
    "- Key advantage of the relational model is logical and physical data independence and storage independence.\n",
    "- Entities are independent objects which can have multiple characteristics called attributes.\n",
    "- When mapping to a relational database, entities are represented as tables and attributes map to columns.\n",
    "- Common data types include characters such as Char and Varchar, numbers such as integer and decimal, and timestamps including date and time.\n",
    "- A primary key uniquely identifies a specific row in a table and prevents duplication of data.\n"
   ]
  },
  {
   "cell_type": "markdown",
   "metadata": {},
   "source": [
    "## CREATE TABLE Statement"
   ]
  },
  {
   "cell_type": "markdown",
   "metadata": {},
   "source": [
    "- CREATE is a DDL statement for creating Entities or tables in a database.\n",
    "- The CREATE TABLE statement includes definition of attributes of columns in the table, including\n",
    "    - Names of columns\n",
    "    - Datatypes of columns\n",
    "    - Primary Key constraint"
   ]
  },
  {
   "cell_type": "markdown",
   "metadata": {},
   "source": [
    " **the database does not allow Primary Keys to have NULL values.**"
   ]
  },
  {
   "cell_type": "markdown",
   "metadata": {},
   "source": [
    "CREATE TABLE author (\n",
    "    author_id CHAR(2) PRIMARY KEY NOT NULL,\n",
    "    lastname VARCHAR(15) NOT NULL,\n",
    "    firstname VARCHAR(15) NOT NULL,\n",
    "    email VARCHAR(40),\n",
    "    city VARCHAR(15),\n",
    "    country CHAR(2)\n",
    ")"
   ]
  },
  {
   "cell_type": "code",
   "execution_count": null,
   "metadata": {},
   "outputs": [],
   "source": [
    "CREATE TABLE PETSALE (\n",
    "    ID INTEGER NOT NULL,\n",
    "    PET CHAR(20),\n",
    "    SALEPRICE DECIMAL(6,2),\n",
    "    PROFIT DECIMAL(6,2),\n",
    "    SALEDATE DATE\n",
    "    );\n",
    "    \n",
    "CREATE TABLE PET (\n",
    "    ID INTEGER NOT NULL,\n",
    "    ANIMAL VARCHAR(20),\n",
    "    QUANTITY INTEGER\n",
    "    );"
   ]
  },
  {
   "cell_type": "markdown",
   "metadata": {},
   "source": [
    "INSERT INTO PETSALE VALUES\n",
    "    (1,'Cat',450.09,100.47,'2018-05-29'),\n",
    "    (2,'Dog',666.66,150.76,'2018-06-01'),\n",
    "    (3,'Parrot',50.00,8.9,'2018-06-04'),\n",
    "    (4,'Hamster',60.60,12,'2018-06-11'),\n",
    "    (5,'Goldfish',48.48,3.5,'2018-06-14');\n",
    "    \n",
    "INSERT INTO PET VALUES\n",
    "    (1,'Cat',3),\n",
    "    (2,'Dog',4),\n",
    "    (3,'Hamster',2);\n",
    "    \n",
    "SELECT * FROM PETSALE;\n",
    "SELECT * FROM PET;"
   ]
  },
  {
   "cell_type": "markdown",
   "metadata": {},
   "source": [
    "## ALTER"
   ]
  },
  {
   "cell_type": "markdown",
   "metadata": {},
   "source": [
    "Changes the structure of an existing table:\n",
    "- Add or remove columns\n",
    "- Modify the data type of columns\n",
    "- Add or remove keys\n",
    "- Add or remove constraints"
   ]
  },
  {
   "cell_type": "markdown",
   "metadata": {},
   "source": [
    "How does the syntax of an ALTER statement look?"
   ]
  },
  {
   "cell_type": "markdown",
   "metadata": {},
   "source": [
    "ALTER TABLE table_name\n",
    "ADD COLUMN column_name data_type column_constraint;\n",
    "\n",
    "ALTER TABLE table_name\n",
    "DROP COLUMN column_name;\n",
    "\n",
    "ALTER TABLE table_name\n",
    "ALTER COLUMN column_name SET DATA TYPE data_type;\n",
    "\n",
    "ALTER TABLE table_name\n",
    "RENAME COLUMN current_column_name TO new_column_name;"
   ]
  },
  {
   "cell_type": "markdown",
   "metadata": {},
   "source": [
    "### ALTER TABLE using ADD COLUMN"
   ]
  },
  {
   "cell_type": "code",
   "execution_count": null,
   "metadata": {},
   "outputs": [],
   "source": [
    "ALTER TABLE author\n",
    "    ADD COLUMN telephone_number BIGINT;"
   ]
  },
  {
   "cell_type": "code",
   "execution_count": null,
   "metadata": {},
   "outputs": [],
   "source": [
    "ALTER TABLE PETSALE\n",
    "ADD COLUMN QUANTITY INTEGER;\n",
    "\n",
    "SELECT * FROM PETSALE;"
   ]
  },
  {
   "cell_type": "code",
   "execution_count": null,
   "metadata": {},
   "outputs": [],
   "source": [
    "UPDATE PETSALE SET QUANTITY = 9 WHERE ID = 1;\n",
    "UPDATE PETSALE SET QUANTITY = 3 WHERE ID = 2;\n",
    "UPDATE PETSALE SET QUANTITY = 2 WHERE ID = 3;\n",
    "UPDATE PETSALE SET QUANTITY = 6 WHERE ID = 4;\n",
    "UPDATE PETSALE SET QUANTITY = 24 WHERE ID = 5;\n",
    "\n",
    "SELECT * FROM PETSALE;"
   ]
  },
  {
   "cell_type": "markdown",
   "metadata": {},
   "source": [
    "### ALTER TABLE using ALTER COLUMN"
   ]
  },
  {
   "cell_type": "code",
   "execution_count": null,
   "metadata": {},
   "outputs": [],
   "source": [
    "ALTER TABLE author\n",
    "    ALTER COLUMN telephone_number SET DATA TYPE\n",
    "CHAR(20);"
   ]
  },
  {
   "cell_type": "code",
   "execution_count": null,
   "metadata": {},
   "outputs": [],
   "source": [
    "ALTER TABLE PETSALE\n",
    "ALTER COLUMN PET SET DATA TYPE VARCHAR(20);\n",
    "\n",
    "SELECT * FROM PETSALE;"
   ]
  },
  {
   "cell_type": "markdown",
   "metadata": {},
   "source": [
    "### ALTER TABLE using DROP COLUMN"
   ]
  },
  {
   "cell_type": "code",
   "execution_count": null,
   "metadata": {},
   "outputs": [],
   "source": [
    "ALTER TABLE author\n",
    "    DROP COLUMN telephone_number;"
   ]
  },
  {
   "cell_type": "code",
   "execution_count": null,
   "metadata": {},
   "outputs": [],
   "source": [
    "ALTER TABLE PETSALE\n",
    "ADD COLUMN QUANTITY INTEGER;\n",
    "\n",
    "SELECT * FROM PETSALE;"
   ]
  },
  {
   "cell_type": "markdown",
   "metadata": {},
   "source": [
    "### ALTER TABLE using RENAME COLUMN"
   ]
  },
  {
   "cell_type": "code",
   "execution_count": null,
   "metadata": {},
   "outputs": [],
   "source": [
    "ALTER TABLE PETSALE\n",
    "RENAME COLUMN PET TO ANIMAL;\n",
    "\n",
    "SELECT * FROM PETSALE;"
   ]
  },
  {
   "cell_type": "code",
   "execution_count": null,
   "metadata": {},
   "outputs": [],
   "source": []
  },
  {
   "cell_type": "markdown",
   "metadata": {},
   "source": [
    "## DROP TABLE"
   ]
  },
  {
   "cell_type": "markdown",
   "metadata": {},
   "source": [
    "- Delete an existing table"
   ]
  },
  {
   "cell_type": "code",
   "execution_count": null,
   "metadata": {},
   "outputs": [],
   "source": [
    "DROP TABLE author;"
   ]
  },
  {
   "cell_type": "markdown",
   "metadata": {},
   "source": [
    "## TRUNCATE TABLE"
   ]
  },
  {
   "cell_type": "markdown",
   "metadata": {},
   "source": [
    "- Sometimes you may want to delete the data in a table rather than deleting the table itself.\n",
    "- Delete all rows of data in a table.\n",
    "- The IMMEDIATE specifies to process the statement immediately and that it cannot be undone"
   ]
  },
  {
   "cell_type": "code",
   "execution_count": null,
   "metadata": {},
   "outputs": [],
   "source": [
    "TRUNCATE TABLE author\n",
    " IMMEDIATE;"
   ]
  },
  {
   "cell_type": "code",
   "execution_count": null,
   "metadata": {},
   "outputs": [],
   "source": [
    "TRUNCATE TABLE PET IMMEDIATE;\n",
    "\n",
    "SELECT * FROM PET;"
   ]
  },
  {
   "cell_type": "markdown",
   "metadata": {},
   "source": [
    "## Module3: Intermediate SQL"
   ]
  },
  {
   "cell_type": "markdown",
   "metadata": {},
   "source": [
    "### 3.1 String Patterns, Sorting&Grouping"
   ]
  },
  {
   "cell_type": "markdown",
   "metadata": {},
   "source": [
    "Congratulations! At this point in the course, you know:\n",
    "\n",
    "- You can use the WHERE clause to refine your query results.\n",
    "- You can use the wildcard character (%) as a substitute for unknown characters in a pattern.\n",
    "- You can use BETWEEN ... AND ... to specify a range of numbers.\n",
    "- You can sort query results into ascending or descending order, using the ORDER BY clause to specify the column to sort on.\n",
    "- You can group query results by using the GROUP BY clause. "
   ]
  },
  {
   "cell_type": "markdown",
   "metadata": {},
   "source": [
    "HR Database\n",
    "- We will be working on a sample HR database for this Lab. \n",
    "- This HR database schema consists of 5 tables called EMPLOYEES, JOB_HISTORY, JOBS, DEPARTMENTS and LOCATIONS.\n",
    "- Each table has a few rows of sample data The following diagram shows the tables for the HR database."
   ]
  },
  {
   "cell_type": "markdown",
   "metadata": {},
   "source": [
    "Query 1: Retrieve all employees whose address is in Elgin,IL"
   ]
  },
  {
   "cell_type": "code",
   "execution_count": null,
   "metadata": {},
   "outputs": [],
   "source": [
    "select F_NAME , L_NAME\n",
    "from EMPLOYEES\n",
    "where ADDRESS LIKE '%Elgin,IL%' ;"
   ]
  },
  {
   "cell_type": "markdown",
   "metadata": {},
   "source": [
    "Query 2: Retrieve all employees who were born during the 1970's."
   ]
  },
  {
   "cell_type": "code",
   "execution_count": null,
   "metadata": {},
   "outputs": [],
   "source": [
    "select F_NAME , L_NAME\n",
    "from EMPLOYEES\n",
    "where B_DATE LIKE '197%' ;"
   ]
  },
  {
   "cell_type": "markdown",
   "metadata": {},
   "source": [
    "Query 3: Retrieve all employees in department 5 whose salary is between 60000 and 70000 ."
   ]
  },
  {
   "cell_type": "code",
   "execution_count": null,
   "metadata": {},
   "outputs": [],
   "source": [
    "select *\n",
    "from EMPLOYEES\n",
    "where (SALARY BETWEEN 60000 and 70000)  and DEP_ID = 5 ;"
   ]
  },
  {
   "cell_type": "markdown",
   "metadata": {},
   "source": [
    "Query 4A: Retrieve a list of employees ordered by department ID."
   ]
  },
  {
   "cell_type": "code",
   "execution_count": null,
   "metadata": {},
   "outputs": [],
   "source": [
    "select F_NAME, L_NAME, DEP_ID \n",
    "from EMPLOYEES\n",
    "order by DEP_ID;"
   ]
  },
  {
   "cell_type": "markdown",
   "metadata": {},
   "source": [
    "Query 4B: Retrieve a list of employees ordered in descending order by department ID and within each department ordered alphabetically in descending order by last name."
   ]
  },
  {
   "cell_type": "code",
   "execution_count": null,
   "metadata": {},
   "outputs": [],
   "source": [
    "select F_NAME, L_NAME, DEP_ID \n",
    "from EMPLOYEES\n",
    "order by DEP_ID desc, L_NAME desc;"
   ]
  },
  {
   "cell_type": "markdown",
   "metadata": {},
   "source": [
    "Query 5A: For each department ID retrieve the number of employees in the department."
   ]
  },
  {
   "cell_type": "code",
   "execution_count": null,
   "metadata": {},
   "outputs": [],
   "source": [
    "SELECT DEP_ID, COUNT(*) AS \"NO OF EMPLOYEES\"\n",
    "FROM EMPLOYEES\n",
    "GROUP BY DEP_ID;"
   ]
  },
  {
   "cell_type": "markdown",
   "metadata": {},
   "source": [
    "Query 5B: For each department retrieve the number of employees in the department, and the average employees salary in the department."
   ]
  },
  {
   "cell_type": "code",
   "execution_count": null,
   "metadata": {},
   "outputs": [],
   "source": [
    "SELECT DEP_ID, COUNT(*),AVG(SALARY) \n",
    "FROM EMPLOYEES\n",
    "GROUP BY DEP_ID;\n"
   ]
  },
  {
   "cell_type": "markdown",
   "metadata": {},
   "source": [
    "Query 5C: Label the computed columns in the result set of Query 5B as NUM_EMPLOYEES and AVG_SALARY."
   ]
  },
  {
   "cell_type": "code",
   "execution_count": null,
   "metadata": {},
   "outputs": [],
   "source": [
    "SELECT DEP_ID, COUNT(*) AS \"NUM_EMPLOYEES\",AVG(SALARY) AS \"AVG_SALARY\"\n",
    "FROM EMPLOYEES\n",
    "GROUP BY DEP_ID;"
   ]
  },
  {
   "cell_type": "markdown",
   "metadata": {},
   "source": [
    "Query 5D: In Query 5C order the result set by Average Salary."
   ]
  },
  {
   "cell_type": "code",
   "execution_count": null,
   "metadata": {},
   "outputs": [],
   "source": [
    "SELECT DEP_ID, COUNT(*) AS \"NUM_EMPLOYEES\",AVG(SALARY) AS \"AVG_SALARY\"\n",
    "FROM EMPLOYEES\n",
    "GROUP BY DEP_ID\n",
    "ORDER BY AVG_SALARY;"
   ]
  },
  {
   "cell_type": "markdown",
   "metadata": {},
   "source": [
    "Query 5E: In Query 5D limit the result to departments with fewer than 4 employees."
   ]
  },
  {
   "cell_type": "markdown",
   "metadata": {},
   "source": [
    "Hint: Use HAVING after the GROUP BY, and use the count() function in the HAVING clause instead of the column label."
   ]
  },
  {
   "cell_type": "code",
   "execution_count": null,
   "metadata": {},
   "outputs": [],
   "source": [
    "SELECT DEP_ID, COUNT(*) AS \"NUM_EMPLOYEES\",AVG(SALARY) AS \"AVG_SALARY\"\n",
    "FROM EMPLOYEES\n",
    "GROUP BY DEP_ID\n",
    "HAVING COUNT(*) < 4 \n",
    "ORDER BY AVG_SALARY;"
   ]
  },
  {
   "cell_type": "markdown",
   "metadata": {},
   "source": [
    "--5E alternative: if you want to use the label\n"
   ]
  },
  {
   "cell_type": "code",
   "execution_count": null,
   "metadata": {},
   "outputs": [],
   "source": [
    "select DEP_ID, NUM_EMPLOYEES, AVG_SALARY from\n",
    "  (select DEP_ID, COUNT(*) AS NUM_EMPLOYEES, AVG(SALARY) AS AVG_SALARY from EMPLOYEES group by DEP_ID)\n",
    "  where NUM_EMPLOYEES < 4\n",
    "order by AVG_SALARY;"
   ]
  },
  {
   "cell_type": "markdown",
   "metadata": {},
   "source": [
    "BONUS Query 6: Similar to 4B but instead of department ID use department name. Retrieve a list of employees ordered by department name, and within each department ordered alphabetically in descending order by last name."
   ]
  },
  {
   "cell_type": "code",
   "execution_count": null,
   "metadata": {},
   "outputs": [],
   "source": [
    "select D.DEP_NAME , E.F_NAME, E.L_NAME\n",
    "from EMPLOYEES as E, DEPARTMENTS as D\n",
    "where E.DEP_ID = D.DEPT_ID_DEP\n",
    "order by D.DEP_NAME, E.L_NAME desc ;"
   ]
  },
  {
   "cell_type": "markdown",
   "metadata": {},
   "source": [
    "### 3.2 Built-in Database Functions"
   ]
  },
  {
   "cell_type": "markdown",
   "metadata": {},
   "source": [
    "### 3.2.1 Aggregate or Column Functions"
   ]
  },
  {
   "cell_type": "markdown",
   "metadata": {},
   "source": [
    "- INPUT: Collection of values(e.g entire column)\n",
    "- OUTPUT: Single Value\n",
    "- Examples:\n",
    "    - SUM()\n",
    "    - MIN()\n",
    "    - MAX()\n",
    "    - AVG()\n",
    "\n",
    "- Mathematical operations can be performed between columns\n",
    "    - eg. Calculate the average cost *per* dog\n",
    "\n",
    "SELECT AVG(COST/QUANTITY) from PETRESCUE\n",
    "WHERE ANIMAL = 'Dog';"
   ]
  },
  {
   "cell_type": "markdown",
   "metadata": {},
   "source": [
    "Query A1: Enter a function that calculates the total cost of all animal rescues in the PETRESCUE table."
   ]
  },
  {
   "cell_type": "code",
   "execution_count": null,
   "metadata": {},
   "outputs": [],
   "source": [
    "select SUM(COST) from PETRESCUE;"
   ]
  },
  {
   "cell_type": "markdown",
   "metadata": {},
   "source": [
    "Query A2: Enter a function that displays the total cost of all animal rescues in the PETRESCUE table in a column called SUM_OF_COST."
   ]
  },
  {
   "cell_type": "code",
   "execution_count": null,
   "metadata": {},
   "outputs": [],
   "source": [
    "select SUM(COST) AS SUM_OF_COST from PETRESCUE;"
   ]
  },
  {
   "cell_type": "markdown",
   "metadata": {},
   "source": [
    "Query A3: Enter a function that displays the maximum quantity of animals rescued."
   ]
  },
  {
   "cell_type": "code",
   "execution_count": null,
   "metadata": {},
   "outputs": [],
   "source": [
    "select MAX(QUANTITY) from PETRESCUE;"
   ]
  },
  {
   "cell_type": "markdown",
   "metadata": {},
   "source": [
    "Query A4: Enter a function that displays the average cost of animals rescued."
   ]
  },
  {
   "cell_type": "code",
   "execution_count": null,
   "metadata": {},
   "outputs": [],
   "source": [
    "select AVG(COST) from PETRESCUE;"
   ]
  },
  {
   "cell_type": "markdown",
   "metadata": {},
   "source": [
    "Query A5: Enter a function that displays the average cost of rescuing a dog."
   ]
  },
  {
   "cell_type": "code",
   "execution_count": null,
   "metadata": {},
   "outputs": [],
   "source": [
    "select AVG(COST/QUANTITY) from PETRESCUE\n",
    "where ANIMAL = 'Dog';"
   ]
  },
  {
   "cell_type": "markdown",
   "metadata": {},
   "source": [
    "### 3.2.2 SCALAR and STRING Functions"
   ]
  },
  {
   "cell_type": "markdown",
   "metadata": {},
   "source": [
    "SCALAR: Perform operations on every *INPUT* value\n",
    "- ROUND()\n",
    "- LENGTH()\n",
    "- UCASE\n",
    "- LCASE"
   ]
  },
  {
   "cell_type": "markdown",
   "metadata": {},
   "source": [
    "Query B1: Enter a function that displays the rounded cost of each rescue."
   ]
  },
  {
   "cell_type": "code",
   "execution_count": null,
   "metadata": {},
   "outputs": [],
   "source": [
    "select ROUND(COST) from PETRESCUE;"
   ]
  },
  {
   "cell_type": "markdown",
   "metadata": {},
   "source": [
    "Query B2: Enter a function that displays the length of each animal name."
   ]
  },
  {
   "cell_type": "code",
   "execution_count": null,
   "metadata": {},
   "outputs": [],
   "source": [
    "select length(ANIMAL) from PETRESCUE;"
   ]
  },
  {
   "cell_type": "markdown",
   "metadata": {},
   "source": [
    "Query B3: Enter a function that displays the animal name in each rescue in uppercase."
   ]
  },
  {
   "cell_type": "code",
   "execution_count": null,
   "metadata": {},
   "outputs": [],
   "source": [
    "select UCASE(ANIMAL) from PETRESCUE;"
   ]
  },
  {
   "cell_type": "markdown",
   "metadata": {},
   "source": [
    "Query B4: Enter a function that displays the animal name in each rescue in uppercase without duplications."
   ]
  },
  {
   "cell_type": "code",
   "execution_count": null,
   "metadata": {},
   "outputs": [],
   "source": [
    "select DISTINCT (UCASE(ANIMAL)) from PETRESCUE;"
   ]
  },
  {
   "cell_type": "markdown",
   "metadata": {},
   "source": [
    "Query B5: Enter a query that displays all the columns from the PETRESCUE table, where the animal(s) rescued are cats. Use cat in lower case in the query."
   ]
  },
  {
   "cell_type": "code",
   "execution_count": null,
   "metadata": {},
   "outputs": [],
   "source": [
    "select * from PETRESCUE\n",
    "where LCase(ANIMAL) = 'cat';"
   ]
  },
  {
   "cell_type": "markdown",
   "metadata": {},
   "source": [
    "### 3.2.3 Date, Time Functions"
   ]
  },
  {
   "cell_type": "markdown",
   "metadata": {},
   "source": [
    "- DATE: YYMMDD\n",
    "- TIME: HHMMSS\n",
    "- TIMESTAMP: YYYYXXDDHHMMSSZZZZZZ\n",
    "- DATE/TIME Functions:\n",
    "    - YEAR()\n",
    "    - MONTH()\n",
    "    - DAY()\n",
    "    - DAYOFMONTH()\n",
    "    - DAYOFWEEK()\n",
    "    - DAYOFYEAR()\n",
    "    - WEEK()\n",
    "    - HOUR()\n",
    "    - MINUTE()\n",
    "    - SECOND()"
   ]
  },
  {
   "cell_type": "markdown",
   "metadata": {},
   "source": [
    "### 3.2.4 Date or Time Arithmetic"
   ]
  },
  {
   "cell_type": "markdown",
   "metadata": {},
   "source": [
    "special Registers:\n",
    "- CURRENT_DATE\n",
    "- CURRENT_TIME"
   ]
  },
  {
   "cell_type": "markdown",
   "metadata": {},
   "source": [
    "Query C1: Enter a function that displays the day of the month when cats have been rescued."
   ]
  },
  {
   "cell_type": "code",
   "execution_count": null,
   "metadata": {},
   "outputs": [],
   "source": [
    "select DAY(RESCUEDATE) AS \"DAY_OF_MONTH\" from PETRESCUE\n",
    "where ANIMAL = 'Cat';"
   ]
  },
  {
   "cell_type": "markdown",
   "metadata": {},
   "source": [
    "Query C2: Enter a function that displays the number of rescues on the 5th month."
   ]
  },
  {
   "cell_type": "code",
   "execution_count": null,
   "metadata": {},
   "outputs": [],
   "source": [
    "select SUM(QUANTITY) from PETRESCUE where MONTH(RESCUEDATE)='05';\n"
   ]
  },
  {
   "cell_type": "markdown",
   "metadata": {},
   "source": [
    "Query C3: Enter a function that displays the number of rescues on the 14th day of the month."
   ]
  },
  {
   "cell_type": "code",
   "execution_count": null,
   "metadata": {},
   "outputs": [],
   "source": [
    "select SUM(QUANTITY) from PETRESCUE where DAY(RESCUEDATE)='14';"
   ]
  },
  {
   "cell_type": "markdown",
   "metadata": {},
   "source": [
    "Query C4: Animals rescued should see the vet within three days of arrivals. Enter a function that displays the third day from each rescue."
   ]
  },
  {
   "cell_type": "code",
   "execution_count": null,
   "metadata": {},
   "outputs": [],
   "source": [
    "select (RESCUEDATE + 3 DAYS) from PETRESCUE;"
   ]
  },
  {
   "cell_type": "markdown",
   "metadata": {},
   "source": [
    "Query C5: Enter a function that displays the length of time the animals have been rescued; the difference between today’s date and the recue date."
   ]
  },
  {
   "cell_type": "code",
   "execution_count": null,
   "metadata": {},
   "outputs": [],
   "source": [
    "select (CURRENT_DATE - RESCUEDATE) from PETRESCUE;"
   ]
  },
  {
   "cell_type": "markdown",
   "metadata": {},
   "source": [
    "## 4.0 Sub-Queries and Nested Selects"
   ]
  },
  {
   "cell_type": "markdown",
   "metadata": {},
   "source": [
    "### 4.1.1 Sub-queries to evaluate Aggregate functions in WHERE clause"
   ]
  },
  {
   "cell_type": "markdown",
   "metadata": {},
   "source": [
    "- **Cannot evaluate *Aggregate functions* like ACG() in the WHERE clause**.\n",
    "- Therefore, use a sub-select expression\n"
   ]
  },
  {
   "cell_type": "markdown",
   "metadata": {},
   "source": [
    "*Q1: Execute a **failing query** (i.e. one which gives an error) to retrieve all employees records whose salary is lower than the average salary.*"
   ]
  },
  {
   "cell_type": "code",
   "execution_count": null,
   "metadata": {},
   "outputs": [],
   "source": [
    "WRONG:\n",
    "\n",
    "select * from employees\n",
    "where salary < **AVG(salary)**"
   ]
  },
  {
   "cell_type": "markdown",
   "metadata": {},
   "source": [
    "*Q2: Execute a **working query using a sub-select** to retrieve all employees records whose salary is lower than the average salary.*"
   ]
  },
  {
   "cell_type": "code",
   "execution_count": null,
   "metadata": {},
   "outputs": [],
   "source": [
    "CORRECT:\n",
    "\n",
    "select EMP_ID, F_NAME, L_NAME, SALARY from employees\n",
    "where salary < (select AVG(SALARY) from employees);"
   ]
  },
  {
   "cell_type": "markdown",
   "metadata": {},
   "source": [
    "### 4.1.2 Subqueries in list of columns"
   ]
  },
  {
   "cell_type": "markdown",
   "metadata": {},
   "source": [
    "- Subsitiue column name with a sub-query\n",
    "- Called Column Expressions"
   ]
  },
  {
   "cell_type": "code",
   "execution_count": null,
   "metadata": {},
   "outputs": [],
   "source": [
    "WRONG: \n",
    "\n",
    "select EMP_ID,SALARY,AVG(SALARY) AS AVG_SALARY\n",
    "from employees;"
   ]
  },
  {
   "cell_type": "code",
   "execution_count": null,
   "metadata": {},
   "outputs": [],
   "source": [
    "CORRECT:\n",
    "    \n",
    "select EMP_ID, SALARY, \n",
    "(select AVG(SALARY) from employees AS AVG_SALARY)\n",
    "from employees;"
   ]
  },
  {
   "cell_type": "markdown",
   "metadata": {},
   "source": [
    "*Q3: Execute a **failing query** (i.e. one which gives an error) to retrieve all employees records with EMP_ID, SALARY and maximum salary as MAX_SALARY in every row.*"
   ]
  },
  {
   "cell_type": "code",
   "execution_count": null,
   "metadata": {},
   "outputs": [],
   "source": [
    "select EMP_ID,SALARY,MAX(SALARY) AS MAX_SALARY\n",
    "from employees;"
   ]
  },
  {
   "cell_type": "markdown",
   "metadata": {},
   "source": [
    "*Q4: Execute a **Column Expression** that retrieves all employees records with EMP_ID, SALARY and maximum salary as MAX_SALARY in every row.*"
   ]
  },
  {
   "cell_type": "code",
   "execution_count": null,
   "metadata": {},
   "outputs": [],
   "source": [
    "select EMP_ID,SALARY, (SELECT MAX(SALARY) from employees AS MAX_SALARY)\n",
    "from employees;"
   ]
  },
  {
   "cell_type": "markdown",
   "metadata": {},
   "source": [
    "### 4.1.3 Sub-queries in FROM clause"
   ]
  },
  {
   "cell_type": "markdown",
   "metadata": {},
   "source": [
    "- Substitue the TABLE name with a sub-query\n",
    "- Called Derived Tables or Table Expressions"
   ]
  },
  {
   "cell_type": "markdown",
   "metadata": {},
   "source": [
    "*Q5: Execute a **Table Expression** for the EMPLOYEES table that excludes columns with sensitive employee data (i.e. does not include columns: SSN, B_DATE, SEX, ADDRESS, SALARY).*"
   ]
  },
  {
   "cell_type": "markdown",
   "metadata": {},
   "source": [
    "- The derived table in a sub-query does not include sensitive fields like date of birth or salary.\n",
    "-  such derived tables can prove to be powerful in more complex situations such as when working with multiple tables and doing joins."
   ]
  },
  {
   "cell_type": "code",
   "execution_count": null,
   "metadata": {},
   "outputs": [],
   "source": [
    "select * from (select EMP_ID,F_NAME, L_NAME, DEP_ID from employees) AS EMP4ALL;"
   ]
  },
  {
   "cell_type": "markdown",
   "metadata": {},
   "source": [
    "## 5.0 Working with Multiple Tables"
   ]
  },
  {
   "cell_type": "markdown",
   "metadata": {},
   "source": [
    "Ways to access multiple tables in the same query:\n",
    "1. Sub-queries\n",
    "2. Implicit JOIN\n",
    "3. JOIN Operaters(INNER JOIN, OUTER JOIN)"
   ]
  },
  {
   "cell_type": "markdown",
   "metadata": {},
   "source": [
    "### 5.1.1 Accessing Multiple Tables with Sub-queries"
   ]
  },
  {
   "cell_type": "markdown",
   "metadata": {},
   "source": [
    "- Compose queries that **access multiple tables** using a nested statement in the WHERE clause"
   ]
  },
  {
   "cell_type": "markdown",
   "metadata": {},
   "source": [
    "*Retrieve only the employee records that **correspond** to departments in the DEPARTMENTS table*\n",
    "    "
   ]
  },
  {
   "cell_type": "code",
   "execution_count": null,
   "metadata": {},
   "outputs": [],
   "source": [
    "select * from employees where DEP_ID IN (select DEPT_ID_DEP from departments);"
   ]
  },
  {
   "cell_type": "markdown",
   "metadata": {},
   "source": [
    "*Retrieve only the list of employees from a specific location.*\n",
    "- EMPLOYEES table does not contain location information\n",
    "- Need to get location info from DEPARTMENT tables"
   ]
  },
  {
   "cell_type": "code",
   "execution_count": null,
   "metadata": {},
   "outputs": [],
   "source": [
    "select * from employees where DEP_ID IN (select DEPT_ID_DEP from departments where LOC_ID = 'L0002');"
   ]
  },
  {
   "cell_type": "markdown",
   "metadata": {},
   "source": [
    "*Retrieve the department ID and department name for employees who earn more than $70,000.*"
   ]
  },
  {
   "cell_type": "markdown",
   "metadata": {},
   "source": [
    "To do so, we will need a sub-query on the employees table to satisfy the salary criteria,and then feed it as input to an outer query on the departments table in order to get the matching department info"
   ]
  },
  {
   "cell_type": "code",
   "execution_count": null,
   "metadata": {},
   "outputs": [],
   "source": [
    "select DEPT_ID_DEP, DEP_NAME from DEPARTMENTS \n",
    "where DEPT_ID_DEP IN (select DEP_ID from employees where SALARY> 70000 );"
   ]
  },
  {
   "cell_type": "markdown",
   "metadata": {},
   "source": [
    "Exercise:"
   ]
  },
  {
   "cell_type": "markdown",
   "metadata": {},
   "source": [
    "*Q1: Retrieve only the EMPLOYEES records that correspond to jobs in the JOBS table.*"
   ]
  },
  {
   "cell_type": "code",
   "execution_count": null,
   "metadata": {},
   "outputs": [],
   "source": [
    "select * from employees where JOB_ID IN (select JOB_IDENT from jobs);"
   ]
  },
  {
   "cell_type": "markdown",
   "metadata": {},
   "source": [
    "*Q2: Retrieve only the list of employees whose JOB_TITLE is Jr. Designer.*"
   ]
  },
  {
   "cell_type": "code",
   "execution_count": null,
   "metadata": {},
   "outputs": [],
   "source": [
    "select * from employees where JOB_ID IN (select JOB_IDENT from jobs where JOB_TITLE='Jr.Designer');"
   ]
  },
  {
   "cell_type": "markdown",
   "metadata": {},
   "source": [
    "*Q3: Retrieve JOB information and who earn more than $70,000.*"
   ]
  },
  {
   "cell_type": "code",
   "execution_count": null,
   "metadata": {},
   "outputs": [],
   "source": [
    "select JOB_TITLE, MIN_SALARY, MAX_SALARY, JOB_IDENT from jobs where JOB_IDENT IN (select JOB_ID from employees where salary > 70000);"
   ]
  },
  {
   "cell_type": "markdown",
   "metadata": {},
   "source": [
    "*Q4: Retrieve JOB information and whose birth year is after 1976.*"
   ]
  },
  {
   "cell_type": "code",
   "execution_count": null,
   "metadata": {},
   "outputs": [],
   "source": [
    "select * from jobs where JOB_IDENT IN (select JOB_ID from employees where YEAR(B_DATE) > 1976);  "
   ]
  },
  {
   "cell_type": "markdown",
   "metadata": {},
   "source": [
    "*Q5: Retrieve JOB information for female employees whose birth year is after 1976.*"
   ]
  },
  {
   "cell_type": "code",
   "execution_count": null,
   "metadata": {},
   "outputs": [],
   "source": [
    "select * from jobs where JOB_IDENT IN (select JOB_ID from employees where YEAR(B_DATE) > 1976 and SEX='F' );  "
   ]
  },
  {
   "cell_type": "markdown",
   "metadata": {},
   "source": [
    "### 5.1.2 Accessing multiple tables with Implicit Join"
   ]
  },
  {
   "cell_type": "markdown",
   "metadata": {},
   "source": [
    "- Write Implicit Join queries with join criteria specified in the WHERE clause"
   ]
  },
  {
   "cell_type": "markdown",
   "metadata": {},
   "source": [
    "**How does an Implicit version of CROSS JOIN (also known as Cartesian Join) statement syntax look?**"
   ]
  },
  {
   "cell_type": "markdown",
   "metadata": {},
   "source": [
    "- Specify 2 tables in the FROM clause:"
   ]
  },
  {
   "cell_type": "code",
   "execution_count": null,
   "metadata": {},
   "outputs": [],
   "source": [
    "SELECT column_name(s)\n",
    "FROM table1, table2;"
   ]
  },
  {
   "cell_type": "code",
   "execution_count": null,
   "metadata": {},
   "outputs": [],
   "source": [
    "select * from employees,departments;"
   ]
  },
  {
   "cell_type": "markdown",
   "metadata": {},
   "source": [
    "- The result is a full join ( Cartesian join):\n",
    "    - EVERY ROW in the first table is joined with EVERY ROW in the second table\n",
    "- The result set will have more rows than in both tables"
   ]
  },
  {
   "cell_type": "markdown",
   "metadata": {},
   "source": [
    "Use additional operands to limit the result set:\n"
   ]
  },
  {
   "cell_type": "markdown",
   "metadata": {},
   "source": [
    "**How does an Implicit version of INNER JOIN statement syntax look?**"
   ]
  },
  {
   "cell_type": "code",
   "execution_count": null,
   "metadata": {},
   "outputs": [],
   "source": [
    "SELECT column_name(s)\n",
    "FROM table1, table2\n",
    "WHERE table1.column_name = table2.column_name;"
   ]
  },
  {
   "cell_type": "code",
   "execution_count": null,
   "metadata": {},
   "outputs": [],
   "source": [
    "select E.EMP_ID, D.DEPT_ID_DEP\n",
    "from employees E , departments D\n",
    "where E.DEP_ID = D.DEPT_ID_DEP;"
   ]
  },
  {
   "cell_type": "markdown",
   "metadata": {},
   "source": [
    "*To see the department name for each employee*"
   ]
  },
  {
   "cell_type": "code",
   "execution_count": null,
   "metadata": {},
   "outputs": [],
   "source": [
    "select EMP_ID, DEP_NAME \n",
    "from employees E , departments D\n",
    "where E.DEP_ID = D.DEPT_ID_DEP;"
   ]
  },
  {
   "cell_type": "markdown",
   "metadata": {},
   "source": [
    "Exercise"
   ]
  },
  {
   "cell_type": "markdown",
   "metadata": {},
   "source": [
    "*Q1: Perform an implicit cartesian/cross join between EMPLOYEES and JOBS tables.*"
   ]
  },
  {
   "cell_type": "code",
   "execution_count": null,
   "metadata": {},
   "outputs": [],
   "source": [
    "select * from employees, jobs;"
   ]
  },
  {
   "cell_type": "markdown",
   "metadata": {},
   "source": [
    "*Q2: Retrieve only the EMPLOYEES records that correspond to jobs in the JOBS table.*"
   ]
  },
  {
   "cell_type": "code",
   "execution_count": null,
   "metadata": {},
   "outputs": [],
   "source": [
    "select * from employees, jobs;\n",
    "where employees.JOB_ID = jobs.JOB_IDENT;"
   ]
  },
  {
   "cell_type": "markdown",
   "metadata": {},
   "source": [
    "*Q3: Redo the previous query, using shorter aliases for table names.*"
   ]
  },
  {
   "cell_type": "code",
   "execution_count": null,
   "metadata": {},
   "outputs": [],
   "source": [
    "select * from employees E, jobs J;\n",
    "where E.JOB_ID = J.JOB_IDENT;"
   ]
  },
  {
   "cell_type": "markdown",
   "metadata": {},
   "source": [
    "*Q4: Redo the previous query, but retrieve only the Employee ID, Employee Name and Job Title.*"
   ]
  },
  {
   "cell_type": "code",
   "execution_count": null,
   "metadata": {},
   "outputs": [],
   "source": [
    "select EMP_ID,F_NAME,L_NAME, JOB_TITLE from employees E, jobs J where E.JOB_ID = J.JOB_IDENT;"
   ]
  },
  {
   "cell_type": "markdown",
   "metadata": {},
   "source": [
    "*Q5: Redo the previous query, but specify the fully qualified column names with aliases in the SELECT clause.*"
   ]
  },
  {
   "cell_type": "code",
   "execution_count": null,
   "metadata": {},
   "outputs": [],
   "source": [
    "select E.EMP_ID,E.F_NAME,E.L_NAME, J.JOB_TITLE\n",
    "from employees E, jobs J;\n",
    "where E.JOB_ID = J.JOB_IDENT;"
   ]
  },
  {
   "cell_type": "markdown",
   "metadata": {},
   "source": [
    "## SQL Joins"
   ]
  },
  {
   "cell_type": "code",
   "execution_count": null,
   "metadata": {},
   "outputs": [],
   "source": [
    "Table 1- CUSTOMERS \n",
    "+----+----------+-----+-----------+----------+\n",
    "| ID | NAME     | AGE | ADDRESS   | SALARY   |\n",
    "+----+----------+-----+-----------+----------+\n",
    "|  1 | Ramesh   |  32 | Ahmedabad |  2000.00 |\n",
    "|  2 | Khilan   |  25 | Delhi     |  1500.00 |\n",
    "|  3 | kaushik  |  23 | Kota      |  2000.00 |\n",
    "|  4 | Chaitali |  25 | Mumbai    |  6500.00 |\n",
    "|  5 | Hardik   |  27 | Bhopal    |  8500.00 |\n",
    "|  6 | Komal    |  22 | MP        |  4500.00 |\n",
    "|  7 | Muffy    |  24 | Indore    | 10000.00 |\n",
    "+----+----------+-----+-----------+----------+"
   ]
  },
  {
   "cell_type": "code",
   "execution_count": null,
   "metadata": {},
   "outputs": [],
   "source": [
    "Table 2-ORDERS\n",
    "\n",
    "+-----+---------------------+-------------+--------+\n",
    "| OID | DATE                | CUSTOMER_ID | AMOUNT |\n",
    "+-----+---------------------+-------------+--------+\n",
    "| 102 | 2009-10-08 00:00:00 |           3 |   3000 |\n",
    "| 100 | 2009-10-08 00:00:00 |           3 |   1500 |\n",
    "| 101 | 2009-11-20 00:00:00 |           2 |   1560 |\n",
    "| 103 | 2008-05-20 00:00:00 |           4 |   2060 |\n",
    "+-----+---------------------+-------------+--------+"
   ]
  },
  {
   "cell_type": "markdown",
   "metadata": {},
   "source": [
    "There are different types of joins available in SQL −\n",
    "\n",
    "- INNER JOIN − returns rows when there is a match in both tables.\n",
    "\n",
    "- LEFT JOIN − returns all rows from the left table, even if there are no matches in the right table.\n",
    "\n",
    "- RIGHT JOIN − returns all rows from the right table, even if there are no matches in the left table.\n",
    "\n",
    "- FULL JOIN − returns rows when there is a match in one of the tables.\n",
    "\n",
    "- SELF JOIN − is used to join a table to itself as if the table were two tables, temporarily renaming at least one table in the SQL statement.\n",
    "\n",
    "- CARTESIAN JOIN − returns the Cartesian product of the sets of records from the two or more joined tables."
   ]
  },
  {
   "cell_type": "markdown",
   "metadata": {},
   "source": [
    "### Inner joins"
   ]
  },
  {
   "cell_type": "code",
   "execution_count": null,
   "metadata": {},
   "outputs": [],
   "source": [
    "SQL> SELECT  ID, NAME, AMOUNT, DATE\n",
    "   FROM CUSTOMERS\n",
    "   INNER JOIN ORDERS\n",
    "   ON CUSTOMERS.ID = ORDERS.CUSTOMER_ID;"
   ]
  },
  {
   "cell_type": "code",
   "execution_count": null,
   "metadata": {},
   "outputs": [],
   "source": [
    "+----+----------+--------+---------------------+\n",
    "| ID | NAME     | AMOUNT | DATE                |\n",
    "+----+----------+--------+---------------------+\n",
    "|  3 | kaushik  |   3000 | 2009-10-08 00:00:00 |\n",
    "|  3 | kaushik  |   1500 | 2009-10-08 00:00:00 |\n",
    "|  2 | Khilan   |   1560 | 2009-11-20 00:00:00 |\n",
    "|  4 | Chaitali |   2060 | 2008-05-20 00:00:00 |\n",
    "+----+----------+--------+---------------------+"
   ]
  },
  {
   "cell_type": "markdown",
   "metadata": {},
   "source": [
    "### Left Joins"
   ]
  },
  {
   "cell_type": "code",
   "execution_count": null,
   "metadata": {},
   "outputs": [],
   "source": [
    "SELECT  ID, NAME, AMOUNT, DATE\n",
    "FROM CUSTOMERS\n",
    "LEFT JOIN ORDERS\n",
    "ON CUSTOMERS.ID = ORDERS.CUSTOMER_ID;"
   ]
  },
  {
   "cell_type": "markdown",
   "metadata": {},
   "source": [
    "+----+----------+--------+---------------------+\n",
    "| ID | NAME     | AMOUNT | DATE                |\n",
    "+----+----------+--------+---------------------+\n",
    "|  1 | Ramesh   |   NULL | NULL                |\n",
    "|  2 | Khilan   |   1560 | 2009-11-20 00:00:00 |\n",
    "|  3 | kaushik  |   3000 | 2009-10-08 00:00:00 |\n",
    "|  3 | kaushik  |   1500 | 2009-10-08 00:00:00 |\n",
    "|  4 | Chaitali |   2060 | 2008-05-20 00:00:00 |\n",
    "|  5 | Hardik   |   NULL | NULL                |\n",
    "|  6 | Komal    |   NULL | NULL                |\n",
    "|  7 | Muffy    |   NULL | NULL                |\n",
    "+----+----------+--------+---------------------+"
   ]
  },
  {
   "cell_type": "markdown",
   "metadata": {},
   "source": [
    "### Right Joins"
   ]
  },
  {
   "cell_type": "code",
   "execution_count": null,
   "metadata": {},
   "outputs": [],
   "source": [
    "SELECT  ID, NAME, AMOUNT, DATE\n",
    "FROM CUSTOMERS\n",
    "RIGHT JOIN ORDERS\n",
    "ON CUSTOMERS.ID = ORDERS.CUSTOMER_ID;"
   ]
  },
  {
   "cell_type": "code",
   "execution_count": null,
   "metadata": {},
   "outputs": [],
   "source": [
    "+------+----------+--------+---------------------+\n",
    "| ID   | NAME     | AMOUNT | DATE                |\n",
    "+------+----------+--------+---------------------+\n",
    "|    3 | kaushik  |   3000 | 2009-10-08 00:00:00 |\n",
    "|    3 | kaushik  |   1500 | 2009-10-08 00:00:00 |\n",
    "|    2 | Khilan   |   1560 | 2009-11-20 00:00:00 |\n",
    "|    4 | Chaitali |   2060 | 2008-05-20 00:00:00 |\n",
    "+------+----------+--------+---------------------+"
   ]
  },
  {
   "cell_type": "markdown",
   "metadata": {},
   "source": [
    "### Full Joins"
   ]
  },
  {
   "cell_type": "code",
   "execution_count": null,
   "metadata": {},
   "outputs": [],
   "source": [
    "SELECT  ID, NAME, AMOUNT, DATE\n",
    "FROM CUSTOMERS\n",
    "FULL JOIN ORDERS\n",
    "ON CUSTOMERS.ID = ORDERS.CUSTOMER_ID;"
   ]
  },
  {
   "cell_type": "code",
   "execution_count": null,
   "metadata": {},
   "outputs": [],
   "source": [
    "+------+----------+--------+---------------------+\n",
    "| ID   | NAME     | AMOUNT | DATE                |\n",
    "+------+----------+--------+---------------------+\n",
    "|    1 | Ramesh   |   NULL | NULL                |\n",
    "|    2 | Khilan   |   1560 | 2009-11-20 00:00:00 |\n",
    "|    3 | kaushik  |   3000 | 2009-10-08 00:00:00 |\n",
    "|    3 | kaushik  |   1500 | 2009-10-08 00:00:00 |\n",
    "|    4 | Chaitali |   2060 | 2008-05-20 00:00:00 |\n",
    "|    5 | Hardik   |   NULL | NULL                |\n",
    "|    6 | Komal    |   NULL | NULL                |\n",
    "|    7 | Muffy    |   NULL | NULL                |\n",
    "|    3 | kaushik  |   3000 | 2009-10-08 00:00:00 |\n",
    "|    3 | kaushik  |   1500 | 2009-10-08 00:00:00 |\n",
    "|    2 | Khilan   |   1560 | 2009-11-20 00:00:00 |\n",
    "|    4 | Chaitali |   2060 | 2008-05-20 00:00:00 |\n",
    "+------+----------+--------+---------------------+"
   ]
  },
  {
   "cell_type": "markdown",
   "metadata": {},
   "source": [
    "If your Database does not support FULL JOIN (MySQL does not support FULL JOIN), then you can use UNION ALL clause to combine these two JOINS as shown below."
   ]
  },
  {
   "cell_type": "code",
   "execution_count": null,
   "metadata": {},
   "outputs": [],
   "source": [
    "SQL> SELECT  ID, NAME, AMOUNT, DATE\n",
    "   FROM CUSTOMERS\n",
    "   LEFT JOIN ORDERS\n",
    "   ON CUSTOMERS.ID = ORDERS.CUSTOMER_ID\n",
    "UNION ALL\n",
    "   SELECT  ID, NAME, AMOUNT, DATE\n",
    "   FROM CUSTOMERS\n",
    "   RIGHT JOIN ORDERS\n",
    "   ON CUSTOMERS.ID = ORDERS.CUSTOMER_ID"
   ]
  },
  {
   "cell_type": "code",
   "execution_count": null,
   "metadata": {},
   "outputs": [],
   "source": []
  },
  {
   "cell_type": "code",
   "execution_count": null,
   "metadata": {},
   "outputs": [],
   "source": []
  },
  {
   "cell_type": "markdown",
   "metadata": {},
   "source": [
    "# Module 4: Accessing Databases using Python"
   ]
  },
  {
   "cell_type": "markdown",
   "metadata": {},
   "source": [
    "### APIs used by popular SQL-based DBMS systems"
   ]
  },
  {
   "cell_type": "markdown",
   "metadata": {},
   "source": [
    "Application/Database - SQL API\n",
    "- MySQL - MySQL C API\n",
    "- PostgreSQL - psycopg2\n",
    "- IBM DB2 - ibm_db\n",
    "- SQL Server - dblib API\n",
    "- Database access for Microsoft Windows OS -ODBC\n",
    "- Oracle - OCI\n",
    "- Java - JDBC\n"
   ]
  },
  {
   "cell_type": "markdown",
   "metadata": {},
   "source": [
    "### Writing Code using DB-API"
   ]
  },
  {
   "cell_type": "markdown",
   "metadata": {},
   "source": [
    "- There is a mechanism by which the Python code communicates with the DBMS.\n",
    "- The Python code connects to the database using DB-API calls.\n",
    "- DB-API is Python's standard API for accessing relational databases.\n",
    "- It is a standard that allows you to write a single program that works with multiple kinds of relational databases instead of writing a separate program for each one."
   ]
  },
  {
   "cell_type": "markdown",
   "metadata": {},
   "source": [
    "### Concepts of the Python DB API"
   ]
  },
  {
   "cell_type": "markdown",
   "metadata": {},
   "source": [
    "**Connections Objects**\n",
    "- Database connections\n",
    "- Manage transactions\n",
    "\n",
    "**Cursor Objects**\n",
    "- Database Queries\n",
    "- Scroll through result set\n",
    "- Retrieve results"
   ]
  },
  {
   "cell_type": "markdown",
   "metadata": {},
   "source": [
    "- The DB_API includes a connect constructor for creating a connection to the database.\n",
    "- It returns a Connection Object, which is then used by the various connection methods."
   ]
  },
  {
   "cell_type": "markdown",
   "metadata": {},
   "source": [
    "### Connection Methods"
   ]
  },
  {
   "cell_type": "markdown",
   "metadata": {},
   "source": [
    "- **.cursor()** method: returns a new cursor object using the connection.\n",
    "- **.commit()** method: commit any pending transaction to the database.\n",
    "- **.rollback()** method: causes the database to roll back to the start of any pending transaction.\n",
    "- **.close()** method: close a database connection.\n",
    "    \n",
    "- These objects represent a database cursor, which is used to manage the content of a fetch operation."
   ]
  },
  {
   "cell_type": "markdown",
   "metadata": {},
   "source": [
    "### Cursor Methods"
   ]
  },
  {
   "cell_type": "markdown",
   "metadata": {},
   "source": [
    "- .callproc()\n",
    "- .execute()\n",
    "- .executemany()\n",
    "- .fetchone()\n",
    "- .fetchmany()\n",
    "- .fetchall()\n",
    "- .nextset()\n",
    "- .arraysize()\n",
    "- .close()"
   ]
  },
  {
   "cell_type": "markdown",
   "metadata": {},
   "source": [
    "- Cursors created from the same connection are not isolated that is, any changes done to the database by a cursor are immediately visible by the other cursors.\n",
    "- Cursors created from different connections can or cannot be isolated depending on how the transaction support is implemented.\n",
    "- A database cursor is a control structure that enables traversal over the records in a database.\n",
    "- It behaves like a file name or file handle in a programming language.\n",
    "- Just as a program opens a file to access its contents, it opens a cursor to gain access to the query results.\n",
    "- Another similarity is that just as file handle keeps track of the program's current position within an open file, a cursor keeps track of the program's current position within the query results."
   ]
  },
  {
   "cell_type": "code",
   "execution_count": null,
   "metadata": {},
   "outputs": [],
   "source": [
    "#import your database module by using the connect API from that module.\n",
    "from dbmodule import connect\n",
    "\n",
    "#Create connection object\n",
    "Connection = connect('databasename','username','pswd')\n",
    "\n",
    "#Create a cursor object\n",
    "Cursor = connection.cursor()\n",
    "\n",
    "#Run Queries\n",
    "Cursor.execute('select * from mytable')\n",
    "\n",
    "#Fetch results\n",
    "Results=cursor.fetchall()\n",
    "\n",
    "#Free resources\n",
    "Cursor.close()\n",
    "\n",
    "Connection.close()"
   ]
  },
  {
   "cell_type": "markdown",
   "metadata": {},
   "source": [
    "## Connection to a Database using ibm_db API"
   ]
  },
  {
   "cell_type": "markdown",
   "metadata": {},
   "source": [
    "- ibm_db API provides a variety of useful Python functions for accessing and manipulating data in an IBM data server database, including \n",
    "    - functions for connecting to a database\n",
    "    - preparing and issuing SQL statements\n",
    "    - fetching rows from result sets\n",
    "    - calling stored procedures\n",
    "    - committing and rolling back transactions\n",
    "    - handling errors\n",
    "    - retrieving metadata.\n",
    "   \n",
    "- The ibm_db API uses the IBM Data Server Driver for ODBC, and CLI APIs to connect to IBM, DB2, and Informix."
   ]
  },
  {
   "cell_type": "markdown",
   "metadata": {},
   "source": [
    "**Refers to Hands on Lab**: \n",
    "- DB0201EN-Week3-1-1-Connecting\n",
    "- DB0201EN-Week3-1-2-Querying "
   ]
  },
  {
   "cell_type": "markdown",
   "metadata": {},
   "source": [
    "## Introducing SQL Magic"
   ]
  },
  {
   "cell_type": "markdown",
   "metadata": {},
   "source": [
    "- Jupyter notebooks have a concept of Magic commands that can simplify working with Python, and are particularly useful for data analysis. Your notebooks can have two types of magic commands:\n",
    "\n",
    "- **Cell magics** : start with a double %% sign and apply to the entire cell\n",
    "\n",
    "- **Line magics**: start with a single % (percent) sign and apply to a particular line in a cell"
   ]
  },
  {
   "cell_type": "markdown",
   "metadata": {},
   "source": [
    "For example if you want to execute the a query to select some data from a table and fetch its results, you can simply enter a command like the following in your Jupyter notebook cell:\n",
    "\n",
    "**%sql select * from tablename**"
   ]
  },
  {
   "cell_type": "markdown",
   "metadata": {},
   "source": [
    "**Refers to Hands on Lab**: \n",
    "- DB0201EN-Week3-1-3-SQLmagic"
   ]
  },
  {
   "cell_type": "markdown",
   "metadata": {},
   "source": [
    "Congratulations! You have completed this lesson. At this point in the course, you know:\n",
    "\n",
    "\n",
    "- You can access a database from a language like Python by using the appropriate API. Examples include ibm_db API for IBM DB2, psycopg2 for ProstgreSQL, and dblib API for SQL Server.\n",
    "\n",
    "- DB-API is Python's standard API for accessing relational databases. It allows you to write a single program that works with multiple kinds of relational databases instead of writing a separate program for each one.\n",
    "\n",
    "- The DB_API connect constructor creates a connection to the database and returns a Connection Object, which is then used by the various connection methods.\n",
    "\n",
    "- The connection methods are: The cursor() method, which returns a new cursor object using the connection. The commit() method, which is used to commit any pending transaction to the database. The rollback() method, which causes the database to roll-back to the start of any pending transaction. The close() method, which is used to close a database connection.\n",
    "\n",
    "- You can use SQL Magic commands to execute queries more easily from Jupyter Notebooks. Magic commands have the general format %sql select * from tablename. Cell magics start with a double %% (percent) sign and apply to the entire cell. Line magics start with a single % (percent) sign and apply to a particular line in a cell."
   ]
  },
  {
   "cell_type": "code",
   "execution_count": null,
   "metadata": {},
   "outputs": [],
   "source": []
  }
 ],
 "metadata": {
  "kernelspec": {
   "display_name": "Python 3",
   "language": "python",
   "name": "python3"
  },
  "language_info": {
   "codemirror_mode": {
    "name": "ipython",
    "version": 3
   },
   "file_extension": ".py",
   "mimetype": "text/x-python",
   "name": "python",
   "nbconvert_exporter": "python",
   "pygments_lexer": "ipython3",
   "version": "3.8.5"
  }
 },
 "nbformat": 4,
 "nbformat_minor": 4
}
