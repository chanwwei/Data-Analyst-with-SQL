{
 "cells": [
  {
   "cell_type": "markdown",
   "metadata": {},
   "source": [
    "# Data Analyst with SQL"
   ]
  },
  {
   "cell_type": "markdown",
   "metadata": {},
   "source": [
    "## SELECT"
   ]
  },
  {
   "cell_type": "code",
   "execution_count": 2,
   "metadata": {},
   "outputs": [],
   "source": [
    "import pandas as pd"
   ]
  },
  {
   "cell_type": "code",
   "execution_count": 3,
   "metadata": {},
   "outputs": [],
   "source": [
    "eurovision = pd.read_csv(\"Module1/eurovis.csv\")"
   ]
  },
  {
   "cell_type": "code",
   "execution_count": 4,
   "metadata": {},
   "outputs": [
    {
     "name": "stdout",
     "output_type": "stream",
     "text": [
      "      ID  EventYear      Country  Gender GroupType  Place  Points HostCountry  \\\n",
      "0      1       2009    Lithuania    Male      Solo     23      23        Away   \n",
      "1      2       2009       Israel  Female     Group     16      53        Away   \n",
      "2      3       2009       France  Female      Solo      8     107        Away   \n",
      "3      4       2009       Sweden  Female      Solo     21      33        Away   \n",
      "4      5       2009      Croatia    Both     Group     18      45        Away   \n",
      "..   ...        ...          ...     ...       ...    ...     ...         ...   \n",
      "643  644       2010     Slovenia     NaN       NaN     16       6        Away   \n",
      "644  645       2010       Sweden     NaN       NaN     11      62        Away   \n",
      "645  646       2010  Switzerland     NaN       NaN     17       2        Away   \n",
      "646  647       2010       Turkey     NaN       NaN      1     118        Away   \n",
      "647  648       2010      Ukraine     NaN       NaN      7      77        Away   \n",
      "\n",
      "    HostRegion  IsFinal  SFNumber  SongInEnglish  \n",
      "0         Home        1       NaN              1  \n",
      "1         Away        1       NaN              1  \n",
      "2         Away        1       NaN              0  \n",
      "3         Away        1       NaN              1  \n",
      "4         Away        1       NaN              0  \n",
      "..         ...      ...       ...            ...  \n",
      "643       Away        0       2.0              0  \n",
      "644       Home        0       2.0              1  \n",
      "645       Away        0       2.0              0  \n",
      "646       Away        0       2.0              1  \n",
      "647       Away        0       2.0              1  \n",
      "\n",
      "[648 rows x 12 columns]\n"
     ]
    }
   ],
   "source": [
    "print(eurovision)"
   ]
  },
  {
   "cell_type": "markdown",
   "metadata": {},
   "source": [
    "SELECT the country column FROM the eurovision table."
   ]
  },
  {
   "cell_type": "code",
   "execution_count": null,
   "metadata": {},
   "outputs": [],
   "source": [
    "SELECT Country FROM eurovision;"
   ]
  },
  {
   "cell_type": "markdown",
   "metadata": {},
   "source": [
    "Amend your query to return the points column instead of the country column."
   ]
  },
  {
   "cell_type": "code",
   "execution_count": null,
   "metadata": {},
   "outputs": [],
   "source": [
    "SELECT points FROM eurovision;"
   ]
  },
  {
   "cell_type": "markdown",
   "metadata": {},
   "source": [
    "Use TOP to change the existing query so that only the first 50 rows are returned."
   ]
  },
  {
   "cell_type": "code",
   "execution_count": null,
   "metadata": {},
   "outputs": [],
   "source": [
    "SELECT TOP(50) points FROM eurovision;"
   ]
  },
  {
   "cell_type": "markdown",
   "metadata": {},
   "source": [
    "Return a list of unique countries using DISTINCT. Give the results an alias of unique_country."
   ]
  },
  {
   "cell_type": "code",
   "execution_count": null,
   "metadata": {},
   "outputs": [],
   "source": [
    "SELECT DISTINCT country AS unique_country FROM eurovision;"
   ]
  },
  {
   "cell_type": "markdown",
   "metadata": {},
   "source": [
    "SELECT the country and event_year columns from the eurovision table."
   ]
  },
  {
   "cell_type": "code",
   "execution_count": null,
   "metadata": {},
   "outputs": [],
   "source": [
    "SELECT country,event_year FROM eurovision;"
   ]
  },
  {
   "cell_type": "markdown",
   "metadata": {},
   "source": [
    "Use a shortcut to amend the current query, returning ALL columns in the table."
   ]
  },
  {
   "cell_type": "code",
   "execution_count": null,
   "metadata": {},
   "outputs": [],
   "source": [
    "SELECT * FROM eurovision;"
   ]
  },
  {
   "cell_type": "markdown",
   "metadata": {},
   "source": [
    "This time, return only half the rows using 'TOP', using the same shortcut as before to return all columns."
   ]
  },
  {
   "cell_type": "code",
   "execution_count": null,
   "metadata": {},
   "outputs": [],
   "source": [
    "SELECT TOP(50) PERCENT * FROM eurovision;"
   ]
  },
  {
   "cell_type": "markdown",
   "metadata": {},
   "source": [
    "## ORDER BY"
   ]
  },
  {
   "cell_type": "markdown",
   "metadata": {},
   "source": [
    "In this exercise, you'll practice the use of ORDER BY using the grid dataset. It's loaded and waiting for you! It contains a subset of wider publicly available information on US power outages.\n",
    "\n",
    "Some of the main columns include:\n",
    "\n",
    "description: The reason/ cause of the outage.\n",
    "nerc_region: The North American Electricity Reliability Corporation was formed to ensure the reliability of the grid and comprises several regional entities.\n",
    "demand_loss_mw: How much energy was not transmitted/consumed during the outage."
   ]
  },
  {
   "cell_type": "markdown",
   "metadata": {},
   "source": [
    "- Can ORDER BY a column that does not appear in SELECT list"
   ]
  },
  {
   "cell_type": "markdown",
   "metadata": {},
   "source": [
    "Select description and event_date from grid. Your query should return the first 5 rows, ordered by event_date.\n",
    "\n",
    "\n"
   ]
  },
  {
   "cell_type": "code",
   "execution_count": null,
   "metadata": {},
   "outputs": [],
   "source": [
    "-- Select the top 20 rows from description, nerc_region and event_date\n",
    "SELECT \n",
    "  TOP (20) description,nerc_region,event_date\n",
    "FROM \n",
    "  grid \n",
    "  -- Order by nerc_region, affected_customers & event_date\n",
    "  -- Event_date should be in descending order\n",
    "ORDER BY\n",
    "    nerc_region,\n",
    "    affected_customers,\n",
    "    event_date desc;"
   ]
  },
  {
   "cell_type": "markdown",
   "metadata": {},
   "source": [
    "## WHERE"
   ]
  },
  {
   "cell_type": "markdown",
   "metadata": {},
   "source": [
    "- Don't forget to use single quotes when filtering strings\n",
    "\n",
    "- You don't need to do this for numeric values, but you DO need to use single quotes for date columns.\n",
    "\n",
    "- dates are always represented in the YYYY-MM-DD format (Year-Month-Day), which is the default in Microsoft SQL Server."
   ]
  },
  {
   "cell_type": "code",
   "execution_count": null,
   "metadata": {},
   "outputs": [],
   "source": [
    "-- Select description and event_year\n",
    "SELECT \n",
    "  description, \n",
    "  event_year\n",
    "FROM \n",
    "  grid \n",
    "  -- Filter the results\n",
    "WHERE\n",
    "  description = 'Vandalism';"
   ]
  },
  {
   "cell_type": "markdown",
   "metadata": {},
   "source": [
    "Select the nerc_region and demand_loss_mw columns, limiting the results to those where affected_customers is greater than or equal to 500000 (500,000)"
   ]
  },
  {
   "cell_type": "code",
   "execution_count": null,
   "metadata": {},
   "outputs": [],
   "source": [
    "-- Select nerc_region and demand_loss_mw\n",
    "SELECT \n",
    "  nerc_region, \n",
    "  demand_loss_mw \n",
    "FROM \n",
    "  grid \n",
    "-- Retrieve rows where affected_customers is >= 500000  (500,000)\n",
    "WHERE\n",
    "  affected_customers >= 500000;"
   ]
  },
  {
   "cell_type": "markdown",
   "metadata": {},
   "source": [
    "Select the nerc_region and demand_loss_mw columns, limiting the results to those where affected_customers is greater than or equal to 500000 (500,000)\n"
   ]
  },
  {
   "cell_type": "code",
   "execution_count": null,
   "metadata": {},
   "outputs": [],
   "source": [
    "-- Select description and affected customers\n",
    "SELECT \n",
    "  description, \n",
    "  affected_customers\n",
    "FROM \n",
    "  grid \n",
    "  -- Retrieve rows where the event_date was the 22nd December, 2013    \n",
    "WHERE \n",
    "  event_date='20131222';"
   ]
  },
  {
   "cell_type": "markdown",
   "metadata": {},
   "source": [
    "Limit the results to those where the affected_customers is BETWEEN 50000 and 150000, and order in descending order of event_date.\n",
    "\n",
    "\n"
   ]
  },
  {
   "cell_type": "code",
   "execution_count": null,
   "metadata": {},
   "outputs": [],
   "source": [
    "-- Select description, affected_customers and event date\n",
    "SELECT \n",
    "  description, \n",
    "  affected_customers,\n",
    "  event_date\n",
    "FROM \n",
    "  grid \n",
    "  -- The affected_customers column should be >= 50000 and <=150000   \n",
    "WHERE \n",
    "  affected_customers BETWEEN 50000\n",
    "  AND 150000\n",
    "   -- Define the order   \n",
    "ORDER BY\n",
    "  event_date desc;\n"
   ]
  },
  {
   "cell_type": "markdown",
   "metadata": {},
   "source": [
    "## Working with NULL values"
   ]
  },
  {
   "cell_type": "markdown",
   "metadata": {},
   "source": [
    "A NULL value could mean 'zero' - if something doesn't happen, it can't be logged in a table. However, NULL can also mean 'unknown' or 'missing'. So consider if it is appropriate to replace them in your results. NULL values provide feedback on data quality. If you have NULL values, and you didn't expect to have any, then you have an issue with either how data is captured or how it's entered in the database.\n",
    "\n",
    "In this exercise, you'll practice filtering for NULL values, excluding them from results, and replacing them with alternative values."
   ]
  },
  {
   "cell_type": "markdown",
   "metadata": {},
   "source": [
    "Use a shortcut to select all columns from grid. Then filter the results to only include rows where demand_loss_mw is unknown or missing."
   ]
  },
  {
   "cell_type": "code",
   "execution_count": null,
   "metadata": {},
   "outputs": [],
   "source": [
    "-- Retrieve all columns\n",
    "SELECT \n",
    "  * \n",
    "FROM \n",
    "  grid \n",
    "  -- Return only rows where demand_loss_mw is missing or unknown  \n",
    "WHERE \n",
    "  demand_loss_mw IS NULL;"
   ]
  },
  {
   "cell_type": "markdown",
   "metadata": {},
   "source": [
    "Adapt your code to return rows where demand_loss_mw is not unknown or missing."
   ]
  },
  {
   "cell_type": "code",
   "execution_count": null,
   "metadata": {},
   "outputs": [],
   "source": [
    "-- Retrieve all columns\n",
    "SELECT \n",
    "  * \n",
    "FROM \n",
    "  grid \n",
    "  -- Return rows where demand_loss_mw is not missing or unknown   \n",
    "WHERE \n",
    "  demand_loss_mw IS NOT NULL;"
   ]
  },
  {
   "cell_type": "markdown",
   "metadata": {},
   "source": [
    "### Exploring classic rock songs"
   ]
  },
  {
   "cell_type": "markdown",
   "metadata": {},
   "source": [
    "It's time to rock and roll! In this set of exercises, you'll use the songlist table, which contains songs featured on the playlists of 25 classic rock radio stations.\n",
    "\n",
    "First, let's get familiar with the data."
   ]
  },
  {
   "cell_type": "markdown",
   "metadata": {},
   "source": [
    "Retrieve the song, artist, and release_year columns from the songlist table"
   ]
  },
  {
   "cell_type": "markdown",
   "metadata": {},
   "source": [
    "Make sure there are no NULL values in the release_year column."
   ]
  },
  {
   "cell_type": "markdown",
   "metadata": {},
   "source": [
    "Order the results by artist and release_year."
   ]
  },
  {
   "cell_type": "code",
   "execution_count": null,
   "metadata": {},
   "outputs": [],
   "source": [
    "-- Retrieve the song,artist and release_year columns\n",
    "SELECT \n",
    "  song, \n",
    "  artist, \n",
    "  release_year \n",
    "FROM \n",
    "  songlist \n",
    "  -- Ensure there are no missing or unknown values in the release_year column\n",
    "WHERE \n",
    "  release_year IS NOT NULL \n",
    "  -- Arrange the results by the artist and release_year columns\n",
    "ORDER BY  \n",
    "  artist, \n",
    "  release_year;"
   ]
  },
  {
   "cell_type": "markdown",
   "metadata": {},
   "source": [
    "Extend the WHERE clause so that the results are those with a release_year greater than or equal to 1980 and less than or equal to 1990.\n",
    "\n"
   ]
  },
  {
   "cell_type": "code",
   "execution_count": null,
   "metadata": {},
   "outputs": [],
   "source": [
    "SELECT \n",
    "  song, \n",
    "  artist, \n",
    "  release_year\n",
    "FROM \n",
    "  songlist \n",
    "WHERE \n",
    "  -- Retrieve records greater than and including 1980\n",
    "  release_year >= '1980'  \n",
    "  -- Also retrieve records up to and including 1990\n",
    "  AND release_year <= '1990'\n",
    "ORDER BY \n",
    "  artist, \n",
    "  release_year;"
   ]
  },
  {
   "cell_type": "markdown",
   "metadata": {},
   "source": [
    "## Using parentheses in your queries"
   ]
  },
  {
   "cell_type": "markdown",
   "metadata": {},
   "source": [
    "You can use parentheses to make the intention of your code clearer. This becomes very important when using AND and OR clauses, to ensure your queries return the exact subsets you need."
   ]
  },
  {
   "cell_type": "markdown",
   "metadata": {},
   "source": [
    "Select all artists beginning with B who released tracks in 1986 but also retrieve any records where the release_year is greater than 1990."
   ]
  },
  {
   "cell_type": "code",
   "execution_count": null,
   "metadata": {},
   "outputs": [],
   "source": [
    "SELECT \n",
    "  artist, \n",
    "  release_year, \n",
    "  song \n",
    "FROM \n",
    "  songlist \n",
    "  -- Choose the correct artist and specify the release year\n",
    "WHERE \n",
    "  (\n",
    "    artist LIKE 'B%' \n",
    "    AND release_year = '1986'\n",
    "  ) \n",
    "  -- Or return all songs released after 1990\n",
    "  OR release_year > '1990' \n",
    "  -- Order the results\n",
    "ORDER BY \n",
    "  release_year, \n",
    "  artist, \n",
    "  song;"
   ]
  },
  {
   "cell_type": "code",
   "execution_count": null,
   "metadata": {},
   "outputs": [],
   "source": []
  },
  {
   "cell_type": "code",
   "execution_count": null,
   "metadata": {},
   "outputs": [],
   "source": []
  },
  {
   "cell_type": "code",
   "execution_count": null,
   "metadata": {},
   "outputs": [],
   "source": []
  },
  {
   "cell_type": "code",
   "execution_count": null,
   "metadata": {},
   "outputs": [],
   "source": []
  }
 ],
 "metadata": {
  "kernelspec": {
   "display_name": "Python 3",
   "language": "python",
   "name": "python3"
  },
  "language_info": {
   "codemirror_mode": {
    "name": "ipython",
    "version": 3
   },
   "file_extension": ".py",
   "mimetype": "text/x-python",
   "name": "python",
   "nbconvert_exporter": "python",
   "pygments_lexer": "ipython3",
   "version": "3.8.5"
  }
 },
 "nbformat": 4,
 "nbformat_minor": 4
}
